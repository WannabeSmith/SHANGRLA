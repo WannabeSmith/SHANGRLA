{
 "cells": [
  {
   "cell_type": "markdown",
   "metadata": {
    "colab_type": "text",
    "id": "n9wMY-R6pqUP"
   },
   "source": [
    "# Assertion RLA"
   ]
  },
  {
   "cell_type": "markdown",
   "metadata": {
    "colab_type": "text",
    "id": "Wm-0IOlGpqUR"
   },
   "source": [
    "## Overview of the assertion audit tool\n",
    "\n",
    "The tool requires as input:\n",
    "\n",
    "+ audit-specific and contest-specific parameters, such as\n",
    "    - whether to sample with or without replacement\n",
    "    - the name of the risk function to use, and any parameters it requires\n",
    "    - a risk limit for each contest to be audited\n",
    "    - the social choice function for each contest, including the number of winners\n",
    "    - candidate identifiers\n",
    "+ a ballot manifest**\n",
    "+ a random seed\n",
    "+ a file of cast vote records\n",
    "+ reported results for each contest\n",
    "+ json files of assertions for IRV contests (one file per IRV contest)\n",
    "+ human reading of voter intent from the paper cards selected for audit\n",
    "\n",
    "** The ballot manifest could be only for cards purported to contain the\n",
    "contests under audit (manifest_type == \"STYLE\"), or could include cards that might not contain the\n",
    "contest (manifest_type == \"ALL\"). These are treated differently. If the sample is to be drawn only from cards that--according to the CVR--contain the contest, and a sampled card turns out not to\n",
    "contain the contest, that is considered a discrepancy, dealt with using the \"phantoms to zombies\" approach.\n",
    "It is assumed that every CVR corresponds to a card in the manifest, but there might\n",
    "be cards cast in the contest for which there is no corresponding CVR. In that case,\n",
    "phantom records are created to ensure that the audit is still truly risk-limiting.\n",
    "\n",
    "Given an independent (i.e., not relying on the voting system) upper bound on the number of cards that contain the contest, if the number of CVRs that contain the contest does not exceed that bound, we can sample from paper purported to contain the contest and use the \"zombies\" approach (Banuelos & Stark) to deal with missing CVRs. This can greatly increase the efficiency of the audit if the contest is on only a small percentage of the cast cards.\n",
    "\n",
    "Any sampled phantom card (i.e., a card for which there are no CVRs) is treated as if its CVR is a non-vote (which it is), and as if its MVR was least favorable (a \"zombie\" producing the greatest doubt in every assertion, separately). Any sampled card for which\n",
    "there is a CVR is compared to its corresponding CVR. \n",
    "If the card turns out not to contain the contest (despite the fact that the CVR says it does), the MVR is treated in the least favorable way for each assertion (i.e., as a zombie rather than as a non-vote).\n",
    "\n",
    "The tool helps select cards for audit, and reports when the audit has found sufficiently strong evidence to stop.\n",
    "\n",
    "The tool exports a log of all the audit inputs except the CVR file, but including the auditors' manually determined voter intent from the audited cards.\n",
    "\n",
    "The current version uses a single sample to audit all contests. It is possible to refine things to target smaller contests."
   ]
  },
  {
   "cell_type": "code",
   "execution_count": 1,
   "metadata": {
    "colab": {},
    "colab_type": "code",
    "id": "NyuWz_jkpqUS"
   },
   "outputs": [],
   "source": [
    "from __future__ import division, print_function\n",
    "\n",
    "import math\n",
    "import json\n",
    "import warnings\n",
    "import numpy as np\n",
    "import pandas as pd\n",
    "import csv\n",
    "import copy\n",
    "\n",
    "from collections import OrderedDict\n",
    "from IPython.display import display, HTML\n",
    "\n",
    "from cryptorandom.cryptorandom import SHA256\n",
    "from cryptorandom.sample import sample_by_index\n",
    "\n",
    "from assertion_audit_utils import \\\n",
    "    Assertion, Assorter, CVR, TestNonnegMean, check_audit_parameters, find_margins,\\\n",
    "    find_p_values, find_sample_size, new_sample_size, \\\n",
    "    prep_sample, summarize_status, write_audit_parameters\n",
    "from dominion_tools import \\\n",
    "    prep_dominion_manifest, sample_from_cvr, write_cards_sampled\n"
   ]
  },
  {
   "cell_type": "markdown",
   "metadata": {
    "colab_type": "text",
    "id": "teG07TCdpqUX"
   },
   "source": [
    "# Audit parameters.\n",
    "\n",
    "* `seed`: the numeric seed for the pseudo-random number generator used to draw sample \n",
    "* `replacement`: whether to sample with replacement. If the sample is drawn with replacement, gamma must also be specified.\n",
    "* `risk_function`: the function to be used to measure risk. Options are `kaplan_markov`,`kaplan_wald`,`kaplan_kolmogorov`,`wald_sprt`,`kaplan_martingale`. Not all risk functions work with every social choice function. `wald_sprt` applies only to plurality contests.\n",
    "* `g`: a parameter to hedge against the possibility of observing a maximum overstatement. Require $g \\in [0, 1)$ for `kaplan_kolmogorov`, `kaplan_markov`, and `kaplan_wald`\n",
    "* `N_cards`: an upper bound on the number of pieces of paper cast in the contest. This should be derived independently of the voting system. A ballot consists of one or more cards.\n",
    "\n",
    "----\n",
    "\n",
    "* `cvr_file`: filename for CVRs (input)\n",
    "* `manifest_file`: filename for ballot manifest (input)\n",
    "* `manifest_type`: \"STYLE\" if the manifest is supposed to list only cards that contain the contests under audit; \"ALL\" if the manifest contains all cards cast in the election\n",
    "* `assertion_file`: filename of assertions for IRV contests, in RAIRE format\n",
    "* `sample_file`: filename for sampled card identifiers (output)\n",
    "* `mvr_file`: filename for manually ascertained votes from sampled cards (input)\n",
    "* `log_file`: filename for audit log (output)\n",
    "\n",
    "----\n",
    "\n",
    "* `error_rate`: expected rate of 1-vote overstatements. Recommended value $\\ge$ 0.001 if there are hand-marked ballots. Larger values increase the initial sample size, but make it more likely that the audit will conclude in a single round if the audit finds errors\n",
    "\n",
    "* `contests`: a dict of contest-specific data \n",
    "    + the keys are unique contest identifiers for contests under audit\n",
    "    + the values are dicts with keys:\n",
    "        - `risk_limit`: the risk limit for the audit of this contest\n",
    "        - `cards_cast`: an upper bound on the number of cast cards that contain the contest\n",
    "        - `choice_function`: `plurality`, `supermajority`, or `IRV`\n",
    "        - `n_winners`: number of winners for majority contests. (Multi-winner IRV not supported; multi-winner super-majority is nonsense)\n",
    "        - `share_to_win`: for super-majority contests, the fraction of valid votes required to win, e.g., 2/3.\n",
    "        - `candidates`: list of names or identifiers of candidates\n",
    "        - `reported_winners` : list of identifier(s) of candidate(s) reported to have won. Length should equal `n_winners`.\n",
    "        - `assertion_file`: filename for a set of json descriptors of Assertions (see technical documentation) that collectively imply the reported outcome of the contest is correct. Required for IRV; ignored for other social choice functions"
   ]
  },
  {
   "cell_type": "code",
   "execution_count": 2,
   "metadata": {
    "colab": {},
    "colab_type": "code",
    "id": "gVFOvFb3pqUY"
   },
   "outputs": [],
   "source": [
    "seed = 14701719130533071658  # use, e.g., 20 rolls of a 10-sided die. Seed doesn't have to be numeric\n",
    "replacement = False\n",
    "risk_function = \"kaplan_martingale\"\n",
    "risk_fn = lambda x: TestNonnegMean.kaplan_martingale(x, N=N_cards)[0]\n",
    "# In the April 2020 AK audit, kaplan_kolmogorov with g=0.1 would have \n",
    "#    been more efficient:\n",
    "# risk_function = \"kaplan_kolmogorov\"\n",
    "# risk_fn = lambda x: TestNonnegMean.kaplan_kolmogorov(x, N=N_cards, g=0.1)\n",
    "g=0.1\n",
    "N_cards = 19813 # From Alaska Ballot manifest"
   ]
  },
  {
   "cell_type": "code",
   "execution_count": 3,
   "metadata": {
    "colab": {},
    "colab_type": "code",
    "id": "pWWkk6qdpqUd"
   },
   "outputs": [],
   "source": [
    "cvr_file = './Data/AK_ballots.raire'\n",
    "manifest_file = './Data/AlaskaBallotManifest.xlsx'\n",
    "manifest_type = 'STYLE'\n",
    "sample_file = 'sample.csv'\n",
    "mvr_file = 'mvr.json'\n",
    "log_file = 'log.json'"
   ]
  },
  {
   "cell_type": "code",
   "execution_count": 4,
   "metadata": {
    "colab": {},
    "colab_type": "code",
    "id": "zNUY9UiypqUg"
   },
   "outputs": [],
   "source": [
    "error_rate = 0.002      # expect 2 1-vote overstatements per 1000 ballots"
   ]
  },
  {
   "cell_type": "code",
   "execution_count": 5,
   "metadata": {
    "colab": {},
    "colab_type": "code",
    "id": "rzxOKQ-ipqUl"
   },
   "outputs": [],
   "source": [
    "# contests to audit. Edit with details of your contest (eg., Contest 339 is the DA race)\n",
    "contests = {'1':{'risk_limit':0.05,\n",
    "                     'choice_function':'IRV',\n",
    "                     'n_winners':1,\n",
    "                     'candidates':['1','3','4','5','7','8','9','11','12'],\n",
    "                     'reported_winners' : ['1'],\n",
    "                     'assertion_file' : './Data/AK_Assertions.json'\n",
    "                    }\n",
    "           }"
   ]
  },
  {
   "cell_type": "markdown",
   "metadata": {
    "colab_type": "text",
    "id": "uE_V7qG5pqUo"
   },
   "source": [
    "Example of other social choice functions:\n",
    "\n",
    "> contests =  {'city_council':{'risk_limit':0.05,\n",
    "                     'choice_function':'plurality',\n",
    "                     'n_winners':3,\n",
    "                     'candidates':['Doug','Emily','Frank','Gail','Harry'],\n",
    "                     'reported_winners' : ['Doug', 'Emily', 'Frank']\n",
    "                    },\n",
    "            'measure_1':{'risk_limit':0.05,\n",
    "                     'choice_function':'supermajority',\n",
    "                     'share_to_win':2/3,\n",
    "                     'n_winners':1,\n",
    "                     'candidates':['yes','no'],\n",
    "                     'reported_winners' : ['yes']\n",
    "                    }                  \n",
    "           }"
   ]
  },
  {
   "cell_type": "code",
   "execution_count": 6,
   "metadata": {
    "colab": {},
    "colab_type": "code",
    "id": "5jP3ynY8pqUp"
   },
   "outputs": [],
   "source": [
    "# read the assertions for the IRV contest\n",
    "for c in contests:\n",
    "    if contests[c]['choice_function'] == 'IRV':\n",
    "        with open(contests[c]['assertion_file'], 'r') as f:\n",
    "            contests[c]['assertion_json'] = json.load(f)['audits'][0]['assertions']"
   ]
  },
  {
   "cell_type": "code",
   "execution_count": 7,
   "metadata": {
    "colab": {},
    "colab_type": "code",
    "id": "zqDDBW_dpqUt"
   },
   "outputs": [],
   "source": [
    "# construct the dict of dicts of assertions for each contest\n",
    "all_assertions = Assertion.make_all_assertions(contests)"
   ]
  },
  {
   "cell_type": "code",
   "execution_count": 8,
   "metadata": {
    "colab": {
     "base_uri": "https://localhost:8080/",
     "height": 161
    },
    "colab_type": "code",
    "id": "r8zz1PrrpqUw",
    "outputId": "80ed8585-edd6-471f-fb07-36c271ed5ffe",
    "scrolled": true
   },
   "outputs": [
    {
     "data": {
      "text/plain": [
       "{'1': {'1 v 4 elim 3 5 7 8 9 11 12': <assertion_audit_utils.Assertion at 0x7f974162e940>,\n",
       "  '1 v 8': <assertion_audit_utils.Assertion at 0x7f974162e978>,\n",
       "  '1 v 12': <assertion_audit_utils.Assertion at 0x7f974162e7f0>,\n",
       "  '1 v 5': <assertion_audit_utils.Assertion at 0x7f974162e7b8>,\n",
       "  '1 v 7': <assertion_audit_utils.Assertion at 0x7f974162e748>,\n",
       "  '1 v 9': <assertion_audit_utils.Assertion at 0x7f974162e438>,\n",
       "  '1 v 11': <assertion_audit_utils.Assertion at 0x7f9741630320>,\n",
       "  '1 v 3': <assertion_audit_utils.Assertion at 0x7f97416301d0>}}"
      ]
     },
     "execution_count": 8,
     "metadata": {},
     "output_type": "execute_result"
    }
   ],
   "source": [
    "all_assertions"
   ]
  },
  {
   "cell_type": "markdown",
   "metadata": {
    "colab_type": "text",
    "id": "SSIoQqAgpqUz"
   },
   "source": [
    "## Read the ballot manifest"
   ]
  },
  {
   "cell_type": "code",
   "execution_count": 9,
   "metadata": {
    "colab": {},
    "colab_type": "code",
    "id": "nrrtwdnhpqU0"
   },
   "outputs": [],
   "source": [
    "# special for Primary/Dominion manifest format\n",
    "manifest = pd.read_excel(manifest_file)"
   ]
  },
  {
   "cell_type": "markdown",
   "metadata": {
    "colab_type": "text",
    "id": "mrtOyHWTpqU3"
   },
   "source": [
    "## Read the CVRs "
   ]
  },
  {
   "cell_type": "code",
   "execution_count": 10,
   "metadata": {
    "colab": {
     "base_uri": "https://localhost:8080/",
     "height": 35
    },
    "colab_type": "code",
    "id": "dKTcULiJpqU3",
    "outputId": "e5642553-17d9-45c3-dbf8-7e471ab3f4a5"
   },
   "outputs": [
    {
     "name": "stdout",
     "output_type": "stream",
     "text": [
      "Read 19813 rows\n"
     ]
    }
   ],
   "source": [
    "cvr_input = []\n",
    "with open(cvr_file) as f:\n",
    "    cvr_reader = csv.reader(f, delimiter=',', quotechar='\"')\n",
    "    for row in cvr_reader:\n",
    "        cvr_input.append(row)\n",
    "\n",
    "print(\"Read {} rows\".format(len(cvr_input)))"
   ]
  },
  {
   "cell_type": "code",
   "execution_count": 11,
   "metadata": {
    "colab": {
     "base_uri": "https://localhost:8080/",
     "height": 35
    },
    "colab_type": "code",
    "id": "XcmMiJrXpqU7",
    "outputId": "45c3cff3-e948-401d-8719-ab25a672cbe7"
   },
   "outputs": [
    {
     "name": "stdout",
     "output_type": "stream",
     "text": [
      "After merging, there are CVRs for 19811 cards\n"
     ]
    }
   ],
   "source": [
    "# Import CVRs\n",
    "cvr_list = CVR.from_raire(cvr_input)\n",
    "print(\"After merging, there are CVRs for {} cards\".format(len(cvr_list)))"
   ]
  },
  {
   "cell_type": "code",
   "execution_count": 12,
   "metadata": {
    "colab": {},
    "colab_type": "code",
    "id": "qCJlxTWIpqU-"
   },
   "outputs": [],
   "source": [
    "# turn RAIRE-style identifiers into Dominion-style by substituting \"-\" for \"_\"\n",
    "for c in cvr_list:\n",
    "    c.set_id(str(c.id).replace(\"_\",\"-\"))"
   ]
  },
  {
   "cell_type": "code",
   "execution_count": 13,
   "metadata": {
    "colab": {
     "base_uri": "https://localhost:8080/",
     "height": 197
    },
    "colab_type": "code",
    "id": "ymprLLyZpqVB",
    "outputId": "aaddc41c-3c50-458f-9bc0-59c3f12afad1"
   },
   "outputs": [
    {
     "name": "stdout",
     "output_type": "stream",
     "text": [
      "id: 2-1-1 votes: {'1': {'1': 1, '5': 2, '11': 3, '3': 4, '8': 5}} phantom: False\n",
      "id: 2-1-2 votes: {'1': {'1': 1}} phantom: False\n",
      "id: 2-1-3 votes: {'1': {'1': 1}} phantom: False\n",
      "id: 2-1-4 votes: {'1': {'4': 1, '1': 2}} phantom: False\n",
      "id: 2-1-5 votes: {'1': {'1': 1, '8': 2}} phantom: False\n",
      "id: 2-1-6 votes: {'1': {'1': 1, '5': 2, '11': 3, '8': 4, '3': 5}} phantom: False\n",
      "id: 2-1-8 votes: {'1': {'4': 1, '8': 2, '11': 3, '1': 4}} phantom: False\n",
      "id: 2-1-9 votes: {'1': {'4': 1, '1': 2}} phantom: False\n",
      "id: 2-1-10 votes: {'1': {'1': 1, '5': 2, '11': 3}} phantom: False\n",
      "id: 2-1-11 votes: {'1': {'4': 1, '8': 2, '1': 3, '9': 4, '11': 5}} phantom: False\n"
     ]
    }
   ],
   "source": [
    "for i in range(10):\n",
    "    print(str(cvr_list[i]))"
   ]
  },
  {
   "cell_type": "code",
   "execution_count": 14,
   "metadata": {
    "colab": {
     "base_uri": "https://localhost:8080/",
     "height": 1000
    },
    "colab_type": "code",
    "id": "Cnih718VpqVD",
    "outputId": "8483eeff-67ee-4ce2-f3c3-52b0ec4f3359"
   },
   "outputs": [
    {
     "name": "stderr",
     "output_type": "stream",
     "text": [
      "/Users/stark/Dropbox/Letters/Ms/Vote/Assertion19/Code/dominion_tools.py:42: UserWarning: The CVR list does not account for every card cast in the contest; adding a phantom batch to the manifest\n",
      "  warnings.warn('The CVR list does not account for every card cast in the contest; adding a phantom batch to the manifest')\n"
     ]
    },
    {
     "data": {
      "text/html": [
       "<div>\n",
       "<style scoped>\n",
       "    .dataframe tbody tr th:only-of-type {\n",
       "        vertical-align: middle;\n",
       "    }\n",
       "\n",
       "    .dataframe tbody tr th {\n",
       "        vertical-align: top;\n",
       "    }\n",
       "\n",
       "    .dataframe thead th {\n",
       "        text-align: right;\n",
       "    }\n",
       "</style>\n",
       "<table border=\"1\" class=\"dataframe\">\n",
       "  <thead>\n",
       "    <tr style=\"text-align: right;\">\n",
       "      <th></th>\n",
       "      <th>State</th>\n",
       "      <th>Tabulator ID</th>\n",
       "      <th>Batch ID</th>\n",
       "      <th>Ballot Count</th>\n",
       "      <th>Transfer Case #</th>\n",
       "      <th>cum_cards</th>\n",
       "    </tr>\n",
       "  </thead>\n",
       "  <tbody>\n",
       "    <tr>\n",
       "      <th>0</th>\n",
       "      <td>Alaska</td>\n",
       "      <td>1</td>\n",
       "      <td>1</td>\n",
       "      <td>99</td>\n",
       "      <td>106-2</td>\n",
       "      <td>99</td>\n",
       "    </tr>\n",
       "    <tr>\n",
       "      <th>1</th>\n",
       "      <td>Alaska</td>\n",
       "      <td>1</td>\n",
       "      <td>2</td>\n",
       "      <td>100</td>\n",
       "      <td>106-3</td>\n",
       "      <td>199</td>\n",
       "    </tr>\n",
       "    <tr>\n",
       "      <th>2</th>\n",
       "      <td>Alaska</td>\n",
       "      <td>1</td>\n",
       "      <td>3</td>\n",
       "      <td>99</td>\n",
       "      <td>106-4</td>\n",
       "      <td>298</td>\n",
       "    </tr>\n",
       "    <tr>\n",
       "      <th>3</th>\n",
       "      <td>Alaska</td>\n",
       "      <td>1</td>\n",
       "      <td>4</td>\n",
       "      <td>100</td>\n",
       "      <td>106-5</td>\n",
       "      <td>398</td>\n",
       "    </tr>\n",
       "    <tr>\n",
       "      <th>4</th>\n",
       "      <td>Alaska</td>\n",
       "      <td>1</td>\n",
       "      <td>5</td>\n",
       "      <td>100</td>\n",
       "      <td>106-6</td>\n",
       "      <td>498</td>\n",
       "    </tr>\n",
       "    <tr>\n",
       "      <th>5</th>\n",
       "      <td>Alaska</td>\n",
       "      <td>1</td>\n",
       "      <td>6</td>\n",
       "      <td>102</td>\n",
       "      <td>106-7</td>\n",
       "      <td>600</td>\n",
       "    </tr>\n",
       "    <tr>\n",
       "      <th>6</th>\n",
       "      <td>Alaska</td>\n",
       "      <td>1</td>\n",
       "      <td>7</td>\n",
       "      <td>102</td>\n",
       "      <td>106-8</td>\n",
       "      <td>702</td>\n",
       "    </tr>\n",
       "    <tr>\n",
       "      <th>7</th>\n",
       "      <td>Alaska</td>\n",
       "      <td>1</td>\n",
       "      <td>8</td>\n",
       "      <td>102</td>\n",
       "      <td>106-9</td>\n",
       "      <td>804</td>\n",
       "    </tr>\n",
       "    <tr>\n",
       "      <th>8</th>\n",
       "      <td>Alaska</td>\n",
       "      <td>1</td>\n",
       "      <td>9</td>\n",
       "      <td>99</td>\n",
       "      <td>106-10</td>\n",
       "      <td>903</td>\n",
       "    </tr>\n",
       "    <tr>\n",
       "      <th>9</th>\n",
       "      <td>Alaska</td>\n",
       "      <td>1</td>\n",
       "      <td>10</td>\n",
       "      <td>91</td>\n",
       "      <td>106-11</td>\n",
       "      <td>994</td>\n",
       "    </tr>\n",
       "    <tr>\n",
       "      <th>10</th>\n",
       "      <td>Alaska</td>\n",
       "      <td>1</td>\n",
       "      <td>11</td>\n",
       "      <td>97</td>\n",
       "      <td>106-12</td>\n",
       "      <td>1091</td>\n",
       "    </tr>\n",
       "    <tr>\n",
       "      <th>11</th>\n",
       "      <td>Alaska</td>\n",
       "      <td>1</td>\n",
       "      <td>12</td>\n",
       "      <td>99</td>\n",
       "      <td>106-13</td>\n",
       "      <td>1190</td>\n",
       "    </tr>\n",
       "    <tr>\n",
       "      <th>12</th>\n",
       "      <td>Alaska</td>\n",
       "      <td>1</td>\n",
       "      <td>13</td>\n",
       "      <td>17</td>\n",
       "      <td>106-14</td>\n",
       "      <td>1207</td>\n",
       "    </tr>\n",
       "    <tr>\n",
       "      <th>13</th>\n",
       "      <td>Alaska</td>\n",
       "      <td>1</td>\n",
       "      <td>14</td>\n",
       "      <td>99</td>\n",
       "      <td>106-15</td>\n",
       "      <td>1306</td>\n",
       "    </tr>\n",
       "    <tr>\n",
       "      <th>14</th>\n",
       "      <td>Alaska</td>\n",
       "      <td>1</td>\n",
       "      <td>15</td>\n",
       "      <td>100</td>\n",
       "      <td>106-16</td>\n",
       "      <td>1406</td>\n",
       "    </tr>\n",
       "    <tr>\n",
       "      <th>15</th>\n",
       "      <td>Alaska</td>\n",
       "      <td>1</td>\n",
       "      <td>16</td>\n",
       "      <td>99</td>\n",
       "      <td>106-17</td>\n",
       "      <td>1505</td>\n",
       "    </tr>\n",
       "    <tr>\n",
       "      <th>16</th>\n",
       "      <td>Alaska</td>\n",
       "      <td>1</td>\n",
       "      <td>17</td>\n",
       "      <td>101</td>\n",
       "      <td>106-18</td>\n",
       "      <td>1606</td>\n",
       "    </tr>\n",
       "    <tr>\n",
       "      <th>17</th>\n",
       "      <td>Alaska</td>\n",
       "      <td>1</td>\n",
       "      <td>18</td>\n",
       "      <td>84</td>\n",
       "      <td>106-19</td>\n",
       "      <td>1690</td>\n",
       "    </tr>\n",
       "    <tr>\n",
       "      <th>18</th>\n",
       "      <td>Alaska</td>\n",
       "      <td>1</td>\n",
       "      <td>19</td>\n",
       "      <td>83</td>\n",
       "      <td>106-19</td>\n",
       "      <td>1773</td>\n",
       "    </tr>\n",
       "    <tr>\n",
       "      <th>19</th>\n",
       "      <td>Alaska</td>\n",
       "      <td>1</td>\n",
       "      <td>20</td>\n",
       "      <td>97</td>\n",
       "      <td>128-1</td>\n",
       "      <td>1870</td>\n",
       "    </tr>\n",
       "    <tr>\n",
       "      <th>20</th>\n",
       "      <td>Alaska</td>\n",
       "      <td>1</td>\n",
       "      <td>21</td>\n",
       "      <td>99</td>\n",
       "      <td>128-2</td>\n",
       "      <td>1969</td>\n",
       "    </tr>\n",
       "    <tr>\n",
       "      <th>21</th>\n",
       "      <td>Alaska</td>\n",
       "      <td>1</td>\n",
       "      <td>22</td>\n",
       "      <td>96</td>\n",
       "      <td>128-3</td>\n",
       "      <td>2065</td>\n",
       "    </tr>\n",
       "    <tr>\n",
       "      <th>22</th>\n",
       "      <td>Alaska</td>\n",
       "      <td>1</td>\n",
       "      <td>23</td>\n",
       "      <td>105</td>\n",
       "      <td>128-4</td>\n",
       "      <td>2170</td>\n",
       "    </tr>\n",
       "    <tr>\n",
       "      <th>23</th>\n",
       "      <td>Alaska</td>\n",
       "      <td>1</td>\n",
       "      <td>24</td>\n",
       "      <td>81</td>\n",
       "      <td>128-5</td>\n",
       "      <td>2251</td>\n",
       "    </tr>\n",
       "    <tr>\n",
       "      <th>24</th>\n",
       "      <td>Alaska</td>\n",
       "      <td>1</td>\n",
       "      <td>25</td>\n",
       "      <td>64</td>\n",
       "      <td>128-6</td>\n",
       "      <td>2315</td>\n",
       "    </tr>\n",
       "    <tr>\n",
       "      <th>25</th>\n",
       "      <td>Alaska</td>\n",
       "      <td>1</td>\n",
       "      <td>26</td>\n",
       "      <td>103</td>\n",
       "      <td>115-5</td>\n",
       "      <td>2418</td>\n",
       "    </tr>\n",
       "    <tr>\n",
       "      <th>26</th>\n",
       "      <td>Alaska</td>\n",
       "      <td>1</td>\n",
       "      <td>27</td>\n",
       "      <td>68</td>\n",
       "      <td>115-6</td>\n",
       "      <td>2486</td>\n",
       "    </tr>\n",
       "    <tr>\n",
       "      <th>27</th>\n",
       "      <td>Alaska</td>\n",
       "      <td>1</td>\n",
       "      <td>28</td>\n",
       "      <td>98</td>\n",
       "      <td>115-10</td>\n",
       "      <td>2584</td>\n",
       "    </tr>\n",
       "    <tr>\n",
       "      <th>28</th>\n",
       "      <td>Alaska</td>\n",
       "      <td>1</td>\n",
       "      <td>29</td>\n",
       "      <td>96</td>\n",
       "      <td>115-7</td>\n",
       "      <td>2680</td>\n",
       "    </tr>\n",
       "    <tr>\n",
       "      <th>29</th>\n",
       "      <td>Alaska</td>\n",
       "      <td>1</td>\n",
       "      <td>30</td>\n",
       "      <td>98</td>\n",
       "      <td>115-8</td>\n",
       "      <td>2778</td>\n",
       "    </tr>\n",
       "    <tr>\n",
       "      <th>...</th>\n",
       "      <td>...</td>\n",
       "      <td>...</td>\n",
       "      <td>...</td>\n",
       "      <td>...</td>\n",
       "      <td>...</td>\n",
       "      <td>...</td>\n",
       "    </tr>\n",
       "    <tr>\n",
       "      <th>175</th>\n",
       "      <td>Alaska</td>\n",
       "      <td>2</td>\n",
       "      <td>145</td>\n",
       "      <td>97</td>\n",
       "      <td>125-4</td>\n",
       "      <td>17241</td>\n",
       "    </tr>\n",
       "    <tr>\n",
       "      <th>176</th>\n",
       "      <td>Alaska</td>\n",
       "      <td>2</td>\n",
       "      <td>146</td>\n",
       "      <td>100</td>\n",
       "      <td>125-5</td>\n",
       "      <td>17341</td>\n",
       "    </tr>\n",
       "    <tr>\n",
       "      <th>177</th>\n",
       "      <td>Alaska</td>\n",
       "      <td>2</td>\n",
       "      <td>147</td>\n",
       "      <td>100</td>\n",
       "      <td>125-6</td>\n",
       "      <td>17441</td>\n",
       "    </tr>\n",
       "    <tr>\n",
       "      <th>178</th>\n",
       "      <td>Alaska</td>\n",
       "      <td>2</td>\n",
       "      <td>148</td>\n",
       "      <td>100</td>\n",
       "      <td>127-1</td>\n",
       "      <td>17541</td>\n",
       "    </tr>\n",
       "    <tr>\n",
       "      <th>179</th>\n",
       "      <td>Alaska</td>\n",
       "      <td>2</td>\n",
       "      <td>149</td>\n",
       "      <td>100</td>\n",
       "      <td>127-2</td>\n",
       "      <td>17641</td>\n",
       "    </tr>\n",
       "    <tr>\n",
       "      <th>180</th>\n",
       "      <td>Alaska</td>\n",
       "      <td>2</td>\n",
       "      <td>150</td>\n",
       "      <td>100</td>\n",
       "      <td>127-3</td>\n",
       "      <td>17741</td>\n",
       "    </tr>\n",
       "    <tr>\n",
       "      <th>181</th>\n",
       "      <td>Alaska</td>\n",
       "      <td>2</td>\n",
       "      <td>151</td>\n",
       "      <td>100</td>\n",
       "      <td>127-4</td>\n",
       "      <td>17841</td>\n",
       "    </tr>\n",
       "    <tr>\n",
       "      <th>182</th>\n",
       "      <td>Alaska</td>\n",
       "      <td>2</td>\n",
       "      <td>152</td>\n",
       "      <td>100</td>\n",
       "      <td>127-5</td>\n",
       "      <td>17941</td>\n",
       "    </tr>\n",
       "    <tr>\n",
       "      <th>183</th>\n",
       "      <td>Alaska</td>\n",
       "      <td>2</td>\n",
       "      <td>153</td>\n",
       "      <td>100</td>\n",
       "      <td>127-6</td>\n",
       "      <td>18041</td>\n",
       "    </tr>\n",
       "    <tr>\n",
       "      <th>184</th>\n",
       "      <td>Alaska</td>\n",
       "      <td>2</td>\n",
       "      <td>154</td>\n",
       "      <td>90</td>\n",
       "      <td>127-7</td>\n",
       "      <td>18131</td>\n",
       "    </tr>\n",
       "    <tr>\n",
       "      <th>185</th>\n",
       "      <td>Alaska</td>\n",
       "      <td>2</td>\n",
       "      <td>155</td>\n",
       "      <td>111</td>\n",
       "      <td>127-8</td>\n",
       "      <td>18242</td>\n",
       "    </tr>\n",
       "    <tr>\n",
       "      <th>186</th>\n",
       "      <td>Alaska</td>\n",
       "      <td>2</td>\n",
       "      <td>156</td>\n",
       "      <td>100</td>\n",
       "      <td>127-9</td>\n",
       "      <td>18342</td>\n",
       "    </tr>\n",
       "    <tr>\n",
       "      <th>187</th>\n",
       "      <td>Alaska</td>\n",
       "      <td>2</td>\n",
       "      <td>157</td>\n",
       "      <td>97</td>\n",
       "      <td>127-10</td>\n",
       "      <td>18439</td>\n",
       "    </tr>\n",
       "    <tr>\n",
       "      <th>188</th>\n",
       "      <td>Alaska</td>\n",
       "      <td>2</td>\n",
       "      <td>158</td>\n",
       "      <td>3</td>\n",
       "      <td>127-10</td>\n",
       "      <td>18442</td>\n",
       "    </tr>\n",
       "    <tr>\n",
       "      <th>189</th>\n",
       "      <td>Alaska</td>\n",
       "      <td>2</td>\n",
       "      <td>159</td>\n",
       "      <td>110</td>\n",
       "      <td>127-11</td>\n",
       "      <td>18552</td>\n",
       "    </tr>\n",
       "    <tr>\n",
       "      <th>190</th>\n",
       "      <td>Alaska</td>\n",
       "      <td>2</td>\n",
       "      <td>160</td>\n",
       "      <td>99</td>\n",
       "      <td>127-12</td>\n",
       "      <td>18651</td>\n",
       "    </tr>\n",
       "    <tr>\n",
       "      <th>191</th>\n",
       "      <td>Alaska</td>\n",
       "      <td>2</td>\n",
       "      <td>161</td>\n",
       "      <td>100</td>\n",
       "      <td>127-13</td>\n",
       "      <td>18751</td>\n",
       "    </tr>\n",
       "    <tr>\n",
       "      <th>192</th>\n",
       "      <td>Alaska</td>\n",
       "      <td>2</td>\n",
       "      <td>162</td>\n",
       "      <td>99</td>\n",
       "      <td>127-14</td>\n",
       "      <td>18850</td>\n",
       "    </tr>\n",
       "    <tr>\n",
       "      <th>193</th>\n",
       "      <td>Alaska</td>\n",
       "      <td>2</td>\n",
       "      <td>163</td>\n",
       "      <td>100</td>\n",
       "      <td>127-15</td>\n",
       "      <td>18950</td>\n",
       "    </tr>\n",
       "    <tr>\n",
       "      <th>194</th>\n",
       "      <td>Alaska</td>\n",
       "      <td>2</td>\n",
       "      <td>164</td>\n",
       "      <td>99</td>\n",
       "      <td>127-16</td>\n",
       "      <td>19049</td>\n",
       "    </tr>\n",
       "    <tr>\n",
       "      <th>195</th>\n",
       "      <td>Alaska</td>\n",
       "      <td>2</td>\n",
       "      <td>165</td>\n",
       "      <td>99</td>\n",
       "      <td>127-17</td>\n",
       "      <td>19148</td>\n",
       "    </tr>\n",
       "    <tr>\n",
       "      <th>196</th>\n",
       "      <td>Alaska</td>\n",
       "      <td>2</td>\n",
       "      <td>166</td>\n",
       "      <td>99</td>\n",
       "      <td>108-1</td>\n",
       "      <td>19247</td>\n",
       "    </tr>\n",
       "    <tr>\n",
       "      <th>197</th>\n",
       "      <td>Alaska</td>\n",
       "      <td>2</td>\n",
       "      <td>167</td>\n",
       "      <td>97</td>\n",
       "      <td>108-2</td>\n",
       "      <td>19344</td>\n",
       "    </tr>\n",
       "    <tr>\n",
       "      <th>198</th>\n",
       "      <td>Alaska</td>\n",
       "      <td>2</td>\n",
       "      <td>168</td>\n",
       "      <td>100</td>\n",
       "      <td>108-3</td>\n",
       "      <td>19444</td>\n",
       "    </tr>\n",
       "    <tr>\n",
       "      <th>199</th>\n",
       "      <td>Alaska</td>\n",
       "      <td>2</td>\n",
       "      <td>169</td>\n",
       "      <td>14</td>\n",
       "      <td>108-4</td>\n",
       "      <td>19458</td>\n",
       "    </tr>\n",
       "    <tr>\n",
       "      <th>200</th>\n",
       "      <td>Alaska</td>\n",
       "      <td>2</td>\n",
       "      <td>170</td>\n",
       "      <td>102</td>\n",
       "      <td>108-5</td>\n",
       "      <td>19560</td>\n",
       "    </tr>\n",
       "    <tr>\n",
       "      <th>201</th>\n",
       "      <td>Alaska</td>\n",
       "      <td>2</td>\n",
       "      <td>171</td>\n",
       "      <td>111</td>\n",
       "      <td>108-6</td>\n",
       "      <td>19671</td>\n",
       "    </tr>\n",
       "    <tr>\n",
       "      <th>202</th>\n",
       "      <td>Alaska</td>\n",
       "      <td>2</td>\n",
       "      <td>172</td>\n",
       "      <td>113</td>\n",
       "      <td>108-7</td>\n",
       "      <td>19784</td>\n",
       "    </tr>\n",
       "    <tr>\n",
       "      <th>203</th>\n",
       "      <td>Alaska</td>\n",
       "      <td>2</td>\n",
       "      <td>173</td>\n",
       "      <td>29</td>\n",
       "      <td>106-1</td>\n",
       "      <td>19813</td>\n",
       "    </tr>\n",
       "    <tr>\n",
       "      <th>204</th>\n",
       "      <td>None</td>\n",
       "      <td>phantom</td>\n",
       "      <td>1</td>\n",
       "      <td>2</td>\n",
       "      <td>None</td>\n",
       "      <td>19815</td>\n",
       "    </tr>\n",
       "  </tbody>\n",
       "</table>\n",
       "<p>205 rows × 6 columns</p>\n",
       "</div>"
      ],
      "text/plain": [
       "      State Tabulator ID Batch ID  Ballot Count Transfer Case #  cum_cards\n",
       "0    Alaska            1        1            99           106-2         99\n",
       "1    Alaska            1        2           100           106-3        199\n",
       "2    Alaska            1        3            99           106-4        298\n",
       "3    Alaska            1        4           100           106-5        398\n",
       "4    Alaska            1        5           100           106-6        498\n",
       "5    Alaska            1        6           102           106-7        600\n",
       "6    Alaska            1        7           102           106-8        702\n",
       "7    Alaska            1        8           102           106-9        804\n",
       "8    Alaska            1        9            99          106-10        903\n",
       "9    Alaska            1       10            91          106-11        994\n",
       "10   Alaska            1       11            97          106-12       1091\n",
       "11   Alaska            1       12            99          106-13       1190\n",
       "12   Alaska            1       13            17          106-14       1207\n",
       "13   Alaska            1       14            99          106-15       1306\n",
       "14   Alaska            1       15           100          106-16       1406\n",
       "15   Alaska            1       16            99          106-17       1505\n",
       "16   Alaska            1       17           101          106-18       1606\n",
       "17   Alaska            1       18            84          106-19       1690\n",
       "18   Alaska            1       19            83          106-19       1773\n",
       "19   Alaska            1       20            97           128-1       1870\n",
       "20   Alaska            1       21            99           128-2       1969\n",
       "21   Alaska            1       22            96           128-3       2065\n",
       "22   Alaska            1       23           105           128-4       2170\n",
       "23   Alaska            1       24            81           128-5       2251\n",
       "24   Alaska            1       25            64           128-6       2315\n",
       "25   Alaska            1       26           103           115-5       2418\n",
       "26   Alaska            1       27            68           115-6       2486\n",
       "27   Alaska            1       28            98          115-10       2584\n",
       "28   Alaska            1       29            96           115-7       2680\n",
       "29   Alaska            1       30            98           115-8       2778\n",
       "..      ...          ...      ...           ...             ...        ...\n",
       "175  Alaska            2      145            97           125-4      17241\n",
       "176  Alaska            2      146           100           125-5      17341\n",
       "177  Alaska            2      147           100           125-6      17441\n",
       "178  Alaska            2      148           100           127-1      17541\n",
       "179  Alaska            2      149           100           127-2      17641\n",
       "180  Alaska            2      150           100           127-3      17741\n",
       "181  Alaska            2      151           100           127-4      17841\n",
       "182  Alaska            2      152           100           127-5      17941\n",
       "183  Alaska            2      153           100           127-6      18041\n",
       "184  Alaska            2      154            90           127-7      18131\n",
       "185  Alaska            2      155           111           127-8      18242\n",
       "186  Alaska            2      156           100           127-9      18342\n",
       "187  Alaska            2      157            97          127-10      18439\n",
       "188  Alaska            2      158             3          127-10      18442\n",
       "189  Alaska            2      159           110          127-11      18552\n",
       "190  Alaska            2      160            99          127-12      18651\n",
       "191  Alaska            2      161           100          127-13      18751\n",
       "192  Alaska            2      162            99          127-14      18850\n",
       "193  Alaska            2      163           100          127-15      18950\n",
       "194  Alaska            2      164            99          127-16      19049\n",
       "195  Alaska            2      165            99          127-17      19148\n",
       "196  Alaska            2      166            99           108-1      19247\n",
       "197  Alaska            2      167            97           108-2      19344\n",
       "198  Alaska            2      168           100           108-3      19444\n",
       "199  Alaska            2      169            14           108-4      19458\n",
       "200  Alaska            2      170           102           108-5      19560\n",
       "201  Alaska            2      171           111           108-6      19671\n",
       "202  Alaska            2      172           113           108-7      19784\n",
       "203  Alaska            2      173            29           106-1      19813\n",
       "204    None      phantom        1             2            None      19815\n",
       "\n",
       "[205 rows x 6 columns]"
      ]
     },
     "execution_count": 14,
     "metadata": {},
     "output_type": "execute_result"
    }
   ],
   "source": [
    "# Check that there is a CVR for every card cast in the contest. If not, add phantoms.\n",
    "\n",
    "n_cvrs = len(cvr_list)\n",
    "manifest, manifest_cards, phantom_cards = prep_dominion_manifest(manifest, N_cards, n_cvrs)\n",
    "\n",
    "manifest"
   ]
  },
  {
   "cell_type": "code",
   "execution_count": 15,
   "metadata": {
    "colab": {
     "base_uri": "https://localhost:8080/",
     "height": 35
    },
    "colab_type": "code",
    "id": "IkLkEVLNpqVG",
    "outputId": "860c8d21-64b4-4611-c0a7-10c37d0700d4"
   },
   "outputs": [
    {
     "name": "stdout",
     "output_type": "stream",
     "text": [
      "Created 2 phantom records\n"
     ]
    }
   ],
   "source": [
    "# Create CVRs and MVRs for phantom cards\n",
    "# If the sample draws a phantom card, these CVRs will be used in the comparison.\n",
    "# phantom MVRs should be treated as zeros by the Assorter for every contest\n",
    "phantom_vrs = []\n",
    "for i in range(phantom_cards):\n",
    "    phantom_vrs.append(CVR(id='phantom-1-'+str(i+1), votes={}, phantom = True))  # matches expected RAIRE id for parsing later\n",
    "    \n",
    "cvr_list = cvr_list + phantom_vrs\n",
    "\n",
    "print(\"Created {} phantom records\".format(len(phantom_vrs)))"
   ]
  },
  {
   "cell_type": "code",
   "execution_count": 16,
   "metadata": {
    "colab": {
     "base_uri": "https://localhost:8080/",
     "height": 35
    },
    "colab_type": "code",
    "id": "GM9v2XfcpqVK",
    "outputId": "648bef2d-b902-4529-b179-1e4ff33319d8"
   },
   "outputs": [
    {
     "data": {
      "text/plain": [
       "19813"
      ]
     },
     "execution_count": 16,
     "metadata": {},
     "output_type": "execute_result"
    }
   ],
   "source": [
    "manifest_cards"
   ]
  },
  {
   "cell_type": "code",
   "execution_count": 17,
   "metadata": {
    "colab": {
     "base_uri": "https://localhost:8080/",
     "height": 197
    },
    "colab_type": "code",
    "id": "zmq8-hgupqVN",
    "outputId": "330dc121-312a-4a3e-a99c-8b6ca5b1f3c5"
   },
   "outputs": [
    {
     "name": "stdout",
     "output_type": "stream",
     "text": [
      "minimum assorter margin 0.1049311058396003\n",
      "margins in contest 1\n",
      "1 v 4 elim 3 5 7 8 9 11 12 0.1049311058396003\n",
      "1 v 8 0.2910715186998436\n",
      "1 v 12 0.4760510775753293\n",
      "1 v 5 0.42779992933932265\n",
      "1 v 7 0.4414273456821278\n",
      "1 v 9 0.47690910008580234\n",
      "1 v 11 0.4216928279412506\n",
      "1 v 3 0.46413970625347\n"
     ]
    }
   ],
   "source": [
    "# find the mean of the assorters for the CVRs and check whether the assertions are met\n",
    "min_margin = find_margins(contests, all_assertions, cvr_list)\n",
    "\n",
    "print(\"minimum assorter margin {}\".format(min_margin))\n",
    "for c in contests:\n",
    "    print(\"margins in contest {}\".format(c))\n",
    "    for a, m in contests[c]['margins'].items():\n",
    "        print(a, m)"
   ]
  },
  {
   "cell_type": "code",
   "execution_count": 18,
   "metadata": {
    "colab": {},
    "colab_type": "code",
    "id": "qDGkgIBhpqVQ"
   },
   "outputs": [],
   "source": [
    "check_audit_parameters(risk_function, g, error_rate, contests)"
   ]
  },
  {
   "cell_type": "code",
   "execution_count": 19,
   "metadata": {
    "colab": {},
    "colab_type": "code",
    "id": "DprZYSvQpqVS"
   },
   "outputs": [],
   "source": [
    "write_audit_parameters(log_file, seed, replacement, risk_function, g, N_cards, n_cvrs, \\\n",
    "                       manifest_cards, phantom_cards, error_rate, contests)"
   ]
  },
  {
   "cell_type": "markdown",
   "metadata": {
    "colab_type": "text",
    "id": "O6tGxHUqpqVV"
   },
   "source": [
    "## Set up for sampling"
   ]
  },
  {
   "cell_type": "markdown",
   "metadata": {
    "colab_type": "text",
    "id": "34ppo76EpqVV"
   },
   "source": [
    "## Find initial sample size"
   ]
  },
  {
   "cell_type": "code",
   "execution_count": 20,
   "metadata": {
    "colab": {
     "base_uri": "https://localhost:8080/",
     "height": 35
    },
    "colab_type": "code",
    "id": "AUGVvms5pqVW",
    "outputId": "97812471-e3a9-494d-bfd4-51a17717dfae"
   },
   "outputs": [
    {
     "name": "stdout",
     "output_type": "stream",
     "text": [
      "84\n",
      "90\n"
     ]
    }
   ],
   "source": [
    "# find initial sample size\n",
    "ss_fn = lambda m, r: TestNonnegMean.initial_sample_size(\\\n",
    "                        risk_function=risk_fn, N=N_cards, margin=m,\\\n",
    "                        error_rate=error_rate, alpha=r)\n",
    "sample_size = find_sample_size(contests, all_assertions, sample_size_function=ss_fn)\n",
    "print(sample_size)\n",
    "sample_size = 90\n",
    "print(sample_size)"
   ]
  },
  {
   "cell_type": "markdown",
   "metadata": {
    "colab_type": "text",
    "id": "m9j8A8gZpqVY"
   },
   "source": [
    "## Draw the first sample"
   ]
  },
  {
   "cell_type": "code",
   "execution_count": 21,
   "metadata": {
    "colab": {
     "base_uri": "https://localhost:8080/",
     "height": 35
    },
    "colab_type": "code",
    "id": "I75rMq1epqVZ",
    "outputId": "4ade0e2b-d323-47b0-e3d2-21218c020ebe"
   },
   "outputs": [
    {
     "name": "stdout",
     "output_type": "stream",
     "text": [
      "The sample includes 0 phantom cards.\n"
     ]
    }
   ],
   "source": [
    "# draw the initial sample\n",
    "prng = SHA256(seed)\n",
    "sample = sample_by_index(N_cards, sample_size, prng=prng) # 1-indexed\n",
    "n_phantom_sample = np.sum([cvr_list[i].phantom for i in sample])\n",
    "print(\"The sample includes {} phantom cards.\".format(n_phantom_sample))"
   ]
  },
  {
   "cell_type": "code",
   "execution_count": 22,
   "metadata": {
    "colab": {},
    "colab_type": "code",
    "id": "gdqQoQS3pqVb"
   },
   "outputs": [],
   "source": [
    "cvr_sample_lookup, cvr_sample, mvr_phantoms_sample = sample_from_cvr(cvr_list, manifest, sample)"
   ]
  },
  {
   "cell_type": "code",
   "execution_count": 23,
   "metadata": {
    "colab": {},
    "colab_type": "code",
    "id": "XJ4Qe5w4pqVe"
   },
   "outputs": [],
   "source": [
    "# write the sample\n",
    "write_cards_sampled(sample_file, cvr_sample_lookup, print_phantoms=False)"
   ]
  },
  {
   "cell_type": "markdown",
   "metadata": {
    "colab_type": "text",
    "id": "HKopa0_EpqVh"
   },
   "source": [
    "## Read the audited sample data"
   ]
  },
  {
   "cell_type": "code",
   "execution_count": 24,
   "metadata": {
    "colab": {},
    "colab_type": "code",
    "id": "NYmletNYpqVi"
   },
   "outputs": [],
   "source": [
    "with open(mvr_file) as f:\n",
    "    mvr_json = json.load(f)\n",
    "\n",
    "mvr_sample = CVR.from_dict(mvr_json['ballots'])"
   ]
  },
  {
   "cell_type": "code",
   "execution_count": 25,
   "metadata": {
    "colab": {},
    "colab_type": "code",
    "id": "4iikigZGpqVk"
   },
   "outputs": [],
   "source": [
    "# add MVRs for phantoms\n",
    "mvr_sample = mvr_sample + mvr_phantoms_sample"
   ]
  },
  {
   "cell_type": "markdown",
   "metadata": {
    "colab_type": "text",
    "id": "MDsPkdRWpqVn"
   },
   "source": [
    "## Find measured risks for all assertions"
   ]
  },
  {
   "cell_type": "code",
   "execution_count": 26,
   "metadata": {
    "colab": {
     "base_uri": "https://localhost:8080/",
     "height": 269
    },
    "colab_type": "code",
    "id": "QdI3k0rqpqVo",
    "outputId": "341a080f-e278-463f-9093-cd7fa0739e07"
   },
   "outputs": [
    {
     "name": "stdout",
     "output_type": "stream",
     "text": [
      "maximum assertion p-value 0.11843493467929932\n",
      "p-values for assertions in contest 1\n",
      "1 v 4 elim 3 5 7 8 9 11 12 0.11843493467929932\n",
      "1 v 8 7.509404800471358e-05\n",
      "1 v 12 6.293371248224973e-10\n",
      "1 v 5 7.088725331161885e-09\n",
      "1 v 7 4.423864991271228e-09\n",
      "1 v 9 5.992517955396898e-10\n",
      "1 v 11 9.912011854153376e-09\n",
      "1 v 3 1.2381675685844795e-09\n",
      "\n",
      "contest 1 audit INCOMPLETE at risk limit 0.05. Attained risk 0.11843493467929932\n",
      "assertions remaining to be proved:\n",
      "1 v 4 elim 3 5 7 8 9 11 12: current risk 0.11843493467929932\n"
     ]
    }
   ],
   "source": [
    "prep_sample(mvr_sample, cvr_sample)\n",
    "p_max = find_p_values(contests, all_assertions, mvr_sample, cvr_sample, manifest_type, \\\n",
    "                      risk_function= risk_fn)\n",
    "print(\"maximum assertion p-value {}\".format(p_max))\n",
    "done = summarize_status(contests, all_assertions)"
   ]
  },
  {
   "cell_type": "code",
   "execution_count": 27,
   "metadata": {
    "colab": {},
    "colab_type": "code",
    "id": "iIyagEXTpqVq"
   },
   "outputs": [],
   "source": [
    "# Log the status of the audit \n",
    "write_audit_parameters(log_file, seed, replacement, risk_function, g, N_cards, n_cvrs, \\\n",
    "                       manifest_cards, phantom_cards, error_rate, contests)"
   ]
  },
  {
   "cell_type": "markdown",
   "metadata": {
    "colab_type": "text",
    "id": "P1rBd_ympqVs"
   },
   "source": [
    "# How many more cards should be audited?\n",
    "\n",
    "Estimate how many more cards will need to be audited to confirm any remaining contests. The enlarged sample size is based on:\n",
    "\n",
    "* cards already sampled\n",
    "* the assumption that we will continue to see errors at the same rate observed in the sample"
   ]
  },
  {
   "cell_type": "code",
   "execution_count": 28,
   "metadata": {
    "colab": {
     "base_uri": "https://localhost:8080/",
     "height": 35
    },
    "colab_type": "code",
    "id": "qb_hZzjLpqVt",
    "outputId": "44575ae2-ae3f-47a7-b97a-f6c1dfa9085e"
   },
   "outputs": [
    {
     "name": "stderr",
     "output_type": "stream",
     "text": [
      "/Users/stark/anaconda3/lib/python3.7/site-packages/numpy/core/fromnumeric.py:90: RuntimeWarning: overflow encountered in reduce\n",
      "  return ufunc.reduce(obj, axis, dtype, out, **passkwargs)\n"
     ]
    },
    {
     "data": {
      "text/plain": [
       "114.0"
      ]
     },
     "execution_count": 28,
     "metadata": {},
     "output_type": "execute_result"
    }
   ],
   "source": [
    "# Estimate sample size required to confirm the outcome, if errors continue\n",
    "# at the same rate as already observed.\n",
    "\n",
    "new_size, sams = new_sample_size(contests, all_assertions, mvr_sample,\\\n",
    "                                 cvr_sample, manifest_type,\\\n",
    "                                 risk_fn, quantile=0.8, reps=100)\n",
    "new_size"
   ]
  },
  {
   "cell_type": "code",
   "execution_count": null,
   "metadata": {
    "colab": {
     "base_uri": "https://localhost:8080/",
     "height": 35
    },
    "colab_type": "code",
    "id": "Dj5reTm3pqVv",
    "outputId": "651759af-4c48-47e4-dd80-20e2945c1d43"
   },
   "outputs": [],
   "source": [
    "# augment the sample\n",
    "# reset the seed\n",
    "prng = SHA256(seed)\n",
    "old_sample = sample\n",
    "sample = sample_by_index(N_cards, new_size, prng=prng)  # sampling without replacement\n",
    "incremental_sample = np.sort(list(set(sample) - set(old_sample)))\n",
    "n_phantom_sample = np.sum([cvr_list[i].phantom for i in incremental_sample])\n",
    "print(\"The incremental sample includes {} phantom cards.\".format(n_phantom_sample))"
   ]
  },
  {
   "cell_type": "code",
   "execution_count": null,
   "metadata": {
    "colab": {},
    "colab_type": "code",
    "id": "wGUT8sr-pqVy"
   },
   "outputs": [],
   "source": [
    "cvr_sample_lookup_new, cvr_sample_new, mvr_phantoms_sample_new = \\\n",
    "                sample_from_cvr(cvr_list, manifest, incremental_sample)\n",
    "write_cards_sampled(sample_file, cvr_sample_lookup_new, print_phantoms=False)"
   ]
  },
  {
   "cell_type": "code",
   "execution_count": null,
   "metadata": {
    "colab": {},
    "colab_type": "code",
    "id": "bdiqbkhppqV0"
   },
   "outputs": [],
   "source": [
    "# mvr_json should contain the complete set of mvrs, including those in previous rounds\n",
    "\n",
    "with open(mvr_file) as f:\n",
    "    mvr_json = json.load(f)\n",
    "\n",
    "mvr_sample = CVR.from_dict(mvr_json['ballots']) "
   ]
  },
  {
   "cell_type": "code",
   "execution_count": null,
   "metadata": {
    "colab": {},
    "colab_type": "code",
    "id": "Mv0Wx_0vpqV3"
   },
   "outputs": [],
   "source": [
    "# compile entire sample\n",
    "cvr_sample_lookup, cvr_sample, mvr_phantoms_sample = sample_from_cvr(cvr_list, manifest, sample)"
   ]
  },
  {
   "cell_type": "code",
   "execution_count": null,
   "metadata": {
    "colab": {},
    "colab_type": "code",
    "id": "zB6LSYXVpqV6"
   },
   "outputs": [],
   "source": [
    "# add MVRs for phantoms\n",
    "mvr_sample = mvr_sample + mvr_phantoms_sample"
   ]
  },
  {
   "cell_type": "markdown",
   "metadata": {
    "colab_type": "text",
    "id": "cfItSBnMpqV9"
   },
   "source": [
    "## Find measured risks for all assertions"
   ]
  },
  {
   "cell_type": "code",
   "execution_count": null,
   "metadata": {
    "colab": {},
    "colab_type": "code",
    "id": "xe4CWXI9pqV9"
   },
   "outputs": [],
   "source": [
    "prep_sample(mvr_sample, cvr_sample)\n",
    "p_max = find_p_values(contests, all_assertions, mvr_sample, cvr_sample, manifest_type, \\\n",
    "                      risk_function= risk_fn)\n",
    "print(\"maximum assertion p-value {}\".format(p_max))\n",
    "done = summarize_status(contests, all_assertions)"
   ]
  },
  {
   "cell_type": "code",
   "execution_count": null,
   "metadata": {
    "colab": {},
    "colab_type": "code",
    "id": "aUbXEfcdpqV_"
   },
   "outputs": [],
   "source": [
    "# Log the status of the audit \n",
    "write_audit_parameters(log_file, seed, replacement, risk_function, g, N_cards, n_cvrs, \\\n",
    "                       manifest_cards, phantom_cards, error_rate, contests)"
   ]
  }
 ],
 "metadata": {
  "colab": {
   "collapsed_sections": [
    "O6tGxHUqpqVV",
    "HKopa0_EpqVh",
    "MDsPkdRWpqVn",
    "cfItSBnMpqV9"
   ],
   "name": "assertion_RLA_edited.ipynb",
   "provenance": [],
   "toc_visible": true
  },
  "kernelspec": {
   "display_name": "Python 3",
   "language": "python",
   "name": "python3"
  },
  "language_info": {
   "codemirror_mode": {
    "name": "ipython",
    "version": 3
   },
   "file_extension": ".py",
   "mimetype": "text/x-python",
   "name": "python",
   "nbconvert_exporter": "python",
   "pygments_lexer": "ipython3",
   "version": "3.7.3"
  }
 },
 "nbformat": 4,
 "nbformat_minor": 1
}
